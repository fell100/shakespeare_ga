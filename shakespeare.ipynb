{
 "cells": [
  {
   "cell_type": "code",
   "execution_count": 482,
   "metadata": {},
   "outputs": [],
   "source": [
    "import pymoo\n",
    "import string\n",
    "from pymoo.core.problem import ElementwiseProblem\n",
    "import numpy as np"
   ]
  },
  {
   "cell_type": "code",
   "execution_count": 483,
   "metadata": {},
   "outputs": [],
   "source": [
    "phrase = \"To be, or not to be, that is the question\""
   ]
  },
  {
   "cell_type": "code",
   "execution_count": 484,
   "metadata": {},
   "outputs": [],
   "source": [
    "phrase_list = [i for i in phrase]"
   ]
  },
  {
   "cell_type": "code",
   "execution_count": 485,
   "metadata": {},
   "outputs": [],
   "source": [
    "global phrase_list"
   ]
  },
  {
   "cell_type": "code",
   "execution_count": 486,
   "metadata": {},
   "outputs": [],
   "source": [
    "class ShakespeareProblem(ElementwiseProblem):\n",
    "    def __init__(self, phrase_list):\n",
    "        xl = np.zeros(len(phrase_list))\n",
    "\n",
    "        xu = np.ones(len(phrase_list)) * 99\n",
    "\n",
    "        super().__init__(n_var=len(phrase_list), n_obj=1, n_ieq_constr=2, xl=xl, xu=xu)\n",
    "\n",
    "    def _evaluate(self, x, out, *args, **kwargs):\n",
    "\n",
    "        score = 0\n",
    "        for i in range(len(phrase_list)):\n",
    "            if phrase_list[i] == string.printable[int(x[i])]:\n",
    "                score += 1\n",
    "\n",
    "        out[\"F\"] = -1 * score\n",
    "        #out[\"G\"] = -1 * score"
   ]
  },
  {
   "cell_type": "code",
   "execution_count": 487,
   "metadata": {},
   "outputs": [],
   "source": [
    "ITERATIONS = 200\n",
    "POPULATION = 1000"
   ]
  },
  {
   "cell_type": "code",
   "execution_count": 488,
   "metadata": {},
   "outputs": [],
   "source": [
    "problem = ShakespeareProblem(phrase_list=phrase_list)"
   ]
  },
  {
   "cell_type": "code",
   "execution_count": 489,
   "metadata": {},
   "outputs": [],
   "source": [
    "def decode_String(pop_individual):\n",
    "    final_str = \"\"\n",
    "    for i in pop_individual:\n",
    "        final_str += (string.printable[int(i)])\n",
    "    return final_str"
   ]
  },
  {
   "cell_type": "code",
   "execution_count": 490,
   "metadata": {},
   "outputs": [],
   "source": [
    "from pymoo.util.display.column import Column\n",
    "from pymoo.util.display.output import Output\n",
    "\n",
    "\n",
    "class MyOutput(Output):\n",
    "\n",
    "    def __init__(self):\n",
    "        super().__init__()\n",
    "        self.score = Column(\"score\", width=13)\n",
    "        self.Phrase = Column(\"Phrase\", width=35)\n",
    "        self.columns += [self.score, self.Phrase]\n",
    "\n",
    "    def update(self, algorithm):\n",
    "        super().update(algorithm)\n",
    "        self.score.set(-np.min(algorithm.pop.get(\"F\")))\n",
    "        self.Phrase.set(decode_String(algorithm.pop.get(\"X\")[0]))"
   ]
  },
  {
   "cell_type": "code",
   "execution_count": 491,
   "metadata": {},
   "outputs": [
    {
     "name": "stdout",
     "output_type": "stream",
     "text": [
      "=======================================================================\n",
      "n_gen  |  n_eval  |     score     |                Phrase              \n",
      "=======================================================================\n",
      "     1 |     1000 |  4.0000000000 | c\t{\"8eT!4EHlS~Q3K=&ln8)gE!ER`:1VoC\n",
      "\n",
      "     2 |     2000 |  4.0000000000 | /orbO(4(l|a<~JCSZB7usl1THHiJam|E0q>\n",
      "     3 |     3000 |  4.0000000000 | /orbO(4(l|a<~JCSZB7usl1THHiJam|E0q>\n",
      "     4 |     4000 |  4.0000000000 | /orbO(4(l|a<~JCSZB7usl1THHiJam|E0q>\n",
      "V!o@N46.ddv@9 U1:ha;.O%'xhP _g000 | H2L,\n",
      "V!o@N46.ddv@9 U1:ha;.O%'xhP _g000 | H2L,\n",
      "     7 |     7000 |  6.0000000000 | TSg5lP_Ez;4/g%to9M@UhPs\"C BovtFObd1\n",
      "     8 |     8000 |  6.0000000000 | TSg5lP_Ez;4/g%to9M@UhPs\"C BovtFObd1\n",
      "     9 |     9000 |  8.0000000000 | T] #Z| vB lXbn$oKcCd5[KA~yc(QtbeWqg\n",
      "    10 |    10000 |  8.0000000000 | T] #Z| vB lXbn$oKcCd5[KA~yc(QtbeWqg\n",
      "    11 |    11000 |  8.0000000000 | T] #Z| vB lXbn$oKcCd5[KA~yc(QtbeWqg\n",
      "    12 |    12000 |  8.0000000000 | T] #Z| vB lXbn$oKcCd5[KA~yc(QtbeWqg\n",
      "    13 |    13000 |  8.0000000000 | T] #Z| vB lXbn$oKcCd5[KA~yc(QtbeWqg\n",
      "    14 |    14000 |  8.0000000000 | T] #Z| vB lXbn$oKcCd5[KA~yc(QtbeWqg\n",
      "    15 |    15000 |  8.0000000000 | T] #Z| vB lXbn$oKcCd5[KA~yc(QtbeWqg\n",
      "    16 |    16000 |  9.0000000000 | Gol=e&@u8{[bN|hdBM[\n",
      " tQaro|s&'ueGju\n",
      "    17 |    17000 |  1.000000E+01 | Ko>be,z53vkqtQtnD7[12tc/t8FNPjh6cOg\n",
      "    18 |    18000 |  1.000000E+01 | Ko>be,z53vkqtQtnD7[12tc/t8FNPjh6cOg\n",
      "    19 |    19000 |  1.100000E+01 | QT beS/frH8oKsHo58s$JtvCtw6rAkJ=Wru\n",
      "    20 |    20000 |  1.100000E+01 | QT beS/frH8oKsHo58s$JtvCtw6rAkJ=Wru\n",
      "    21 |    21000 |  1.100000E+01 | QT beS/frH8oKsHo58s$JtvCtw6rAkJ=Wru\n",
      "    22 |    22000 |  1.200000E+01 | +s Rg,63r60ntitoB3CN=-:/uTic th-l=u\n",
      "    23 |    23000 |  1.200000E+01 | +s Rg,63r60ntitoB3CN=-:/uTic th-l=u\n",
      "    24 |    24000 |  1.200000E+01 | +s Rg,63r60ntitoB3CN=-:/uTic th-l=u\n",
      "    25 |    25000 |  1.400000E+01 | +okJe,?ooo7otp#oSbb,.ohstPihxii3+qv\n",
      "    26 |    26000 |  1.400000E+01 | +okJe,?ooo7otp#oSbb,.ohstPihxii3+qv\n",
      "    27 |    27000 |  1.500000E+01 | UojJe,goBo7ot|6oSbb,:thst\\igxig3+qv\n",
      "    28 |    28000 |  1.500000E+01 | UojJe,goBo7ot|6oSbb,:thst\\igxig3+qv\n",
      "txAbz,.th6tIip<khve:v1.600000E+01 | T\t}be,'9r ooi\n",
      "txAbz,.th6tIip<khve:v1.600000E+01 | T\t}be,'9r ooi\n",
      "txAbz,.th6tIip<khve:v1.600000E+01 | T\t}be,'9r ooi\n",
      "txAbz,.th6tIip<khve:v1.600000E+01 | T\t}be,'9r ooi\n",
      "txAbz,.th6tIip<khve:v1.600000E+01 | T\t}be,'9r ooi\n",
      "    34 |    34000 |  1.800000E+01 | To]bf,pos epQ3Ho&Me1:tSat1Os tn#B-u\n",
      "    35 |    35000 |  1.900000E+01 | TE fT)E8n{no8 ZogBy,;Chat _r\tuhy qu\n",
      "    36 |    36000 |  1.900000E+01 | TE fT)E8n{no8 ZogBy,;Chat _r\tuhy qu\n",
      "    37 |    37000 |  1.900000E+01 | TE fT)E8n{no8 ZogBy,;Chat _r\tuhy qu\n",
      "    38 |    38000 |  2.000000E+01 | 3o baunIrnnooWto=cglxtiatais the$&d\n",
      "    39 |    39000 |  2.000000E+01 | 3o baunIrnnooWto=cglxtiatais the$&d\n",
      "    40 |    40000 |  2.100000E+01 | T0]be,por hpt3Ho#be1,tjat1Ds tn#B-u\n",
      "    41 |    41000 |  2.100000E+01 | T0]be,por hpt3Ho#be1,tjat1Ds tn#B-u\n",
      "    42 |    42000 |  2.100000E+01 | T0]be,por hpt3Ho#be1,tjat1Ds tn#B-u\n",
      "    43 |    43000 |  2.100000E+01 | T0]be,por hpt3Ho#be1,tjat1Ds tn#B-u\n",
      "    44 |    44000 |  2.500000E+01 | 2o bTd28r|no8 Zogb1,;thas is\ttha ru\n",
      "    45 |    45000 |  2.500000E+01 | 2o bTd28r|no8 Zogb1,;thas is\ttha ru\n",
      "    46 |    46000 |  2.500000E+01 | 2o bTd28r|no8 Zogb1,;thas is\ttha ru\n",
      "    47 |    47000 |  2.500000E+01 | 2o bTd28r|no8 Zogb1,;thas is\ttha ru\n",
      "    48 |    48000 |  2.500000E+01 | 2o bTd28r|no8 Zogb1,;thas is\ttha ru\n",
      "    49 |    49000 |  2.500000E+01 | 2o bTd28r|no8 Zogb1,;thas is\ttha ru\n",
      "    50 |    50000 |  2.500000E+01 | 2o bTd28r|no8 Zogb1,;thas is\ttha ru\n",
      "    51 |    51000 |  2.600000E+01 | Tonbe,=lr{nlt to;be,pthasTisSth0+qu\n",
      "    52 |    52000 |  2.700000E+01 | To\u000bbh, or not so b\n",
      ",:tiOtMiE$ths,qu\n",
      "    53 |    53000 |  2.700000E+01 | To\u000bbh, or not so b\n",
      ",:tiOtMiE$ths,qu\n",
      "    54 |    54000 |  2.700000E+01 | To\u000bbh, or not so b\n",
      ",:tiOtMiE$ths,qu\n",
      "    55 |    55000 |  2.800000E+01 | To be, or{oot so bw,PtiatQi7$ths,qu\n",
      "    56 |    56000 |  2.800000E+01 | To be, or{oot so bw,PtiatQi7$ths,qu\n",
      "    57 |    57000 |  2.800000E+01 | To be, or{oot so bw,PtiatQi7$ths,qu\n",
      "    58 |    58000 |  2.800000E+01 | To be, or{oot so bw,PtiatQi7$ths,qu\n",
      "    59 |    59000 |  2.900000E+01 | To}be, orqnot Zo$Ae,;thjt~is~the%qw\n",
      "    60 |    60000 |  3.200000E+01 | To bR,]Dr not}tohbe, that~is tye*qu\n",
      "    61 |    61000 |  3.200000E+01 | To bR,]Dr not}tohbe, that~is tye*qu\n",
      "    62 |    62000 |  3.200000E+01 | To bR,]Dr not}tohbe, that~is tye*qu\n",
      "    63 |    63000 |  3.200000E+01 | To bR,]Dr not}tohbe, that~is tye*qu\n",
      "    64 |    64000 |  3.200000E+01 | To bR,]Dr not}tohbe, that~is tye*qu\n",
      "    65 |    65000 |  3.200000E+01 | To bR,]Dr not}tohbe, that~is tye*qu\n",
      "    66 |    66000 |  3.200000E+01 | To bR,]Dr not}tohbe, that~is tye*qu\n",
      "    67 |    67000 |  3.300000E+01 | To\u000bbe,]orfnot to}be,+that is thv\n",
      "qu\n",
      "    68 |    68000 |  3.300000E+01 | To\u000bbe,]orfnot to}be,+that is thv\n",
      "qu\n",
      "    69 |    69000 |  3.300000E+01 | To\u000bbe,]orfnot to}be,+that is thv\n",
      "qu\n",
      "    70 |    70000 |  3.500000E+01 | To be, orsnot\\toabe(}thatEis the qu\n",
      "    71 |    71000 |  3.500000E+01 | To be, orsnot\\toabe(}thatEis the qu\n",
      "    72 |    72000 |  3.500000E+01 | To be, orsnot\\toabe(}thatEis the qu\n",
      "    73 |    73000 |  3.600000E+01 | To be,7or{not toGbe,Kthat is the\u000bqu\n",
      "    74 |    74000 |  3.600000E+01 | To be,7or{not toGbe,Kthat is the\u000bqu\n",
      "    75 |    75000 |  3.600000E+01 | To be,7or{not toGbe,Kthat is the\u000bqu\n",
      "    76 |    76000 |  3.600000E+01 | To be,7or{not toGbe,Kthat is the\u000bqu\n",
      "    77 |    77000 |  3.800000E+01 | To be, or qot to be, that is Jhe_qu\n",
      "    78 |    78000 |  3.800000E+01 | To be, or qot to be, that is Jhe_qu\n",
      "    79 |    79000 |  3.800000E+01 | To be, or qot to be, that is Jhe_qu\n",
      "    80 |    80000 |  3.800000E+01 | To be, or qot to be, that is Jhe_qu\n",
      "    81 |    81000 |  3.800000E+01 | To be, or qot to be, that is Jhe_qu\n",
      "    82 |    82000 |  3.800000E+01 | To be, or qot to be, that is Jhe_qu\n",
      "    83 |    83000 |  3.800000E+01 | To be, or qot to be, that is Jhe_qu\n",
      "    84 |    84000 |  3.800000E+01 | To be, or qot to be, that is Jhe_qu\n",
      "    85 |    85000 |  3.900000E+01 | To be, or not to be, thatUis the)qu\n",
      "    86 |    86000 |  3.900000E+01 | To be, or not to be, thatUis the)qu\n",
      "    87 |    87000 |  3.900000E+01 | To be, or not to be, thatUis the)qu\n",
      "    88 |    88000 |  4.000000E+01 | To be, or not to be,Jthat is the qu\n",
      "    89 |    89000 |  4.000000E+01 | To be, or not to be,Jthat is the qu\n",
      "    90 |    90000 |  4.000000E+01 | To be, or not to be,Jthat is the qu\n",
      "    91 |    91000 |  4.000000E+01 | To be, or not to be,Jthat is the qu\n",
      "    92 |    92000 |  4.000000E+01 | To be, or not to be,Jthat is the qu\n",
      "    93 |    93000 |  4.100000E+01 | To be, or not to be, that is the qu\n",
      "    94 |    94000 |  4.100000E+01 | To be, or not to be, that is the qu\n",
      "    95 |    95000 |  4.100000E+01 | To be, or not to be, that is the qu\n",
      "    96 |    96000 |  4.100000E+01 | To be, or not to be, that is the qu\n",
      "    97 |    97000 |  4.100000E+01 | To be, or not to be, that is the qu\n",
      "    98 |    98000 |  4.100000E+01 | To be, or not to be, that is the qu\n",
      "    99 |    99000 |  4.100000E+01 | To be, or not to be, that is the qu\n",
      "   100 |   100000 |  4.100000E+01 | To be, or not to be, that is the qu\n",
      "   101 |   101000 |  4.100000E+01 | To be, or not to be, that is the qu\n",
      "   102 |   102000 |  4.100000E+01 | To be, or not to be, that is the qu\n",
      "   103 |   103000 |  4.100000E+01 | To be, or not to be, that is the qu\n",
      "   104 |   104000 |  4.100000E+01 | To be, or not to be, that is the qu\n",
      "   105 |   105000 |  4.100000E+01 | To be, or not to be, that is the qu\n",
      "   106 |   106000 |  4.100000E+01 | To be, or not to be, that is the qu\n",
      "   107 |   107000 |  4.100000E+01 | To be, or not to be, that is the qu\n",
      "   108 |   108000 |  4.100000E+01 | To be, or not to be, that is the qu\n",
      "   109 |   109000 |  4.100000E+01 | To be, or not to be, that is the qu\n",
      "   110 |   110000 |  4.100000E+01 | To be, or not to be, that is the qu\n",
      "   111 |   111000 |  4.100000E+01 | To be, or not to be, that is the qu\n",
      "   112 |   112000 |  4.100000E+01 | To be, or not to be, that is the qu\n",
      "   113 |   113000 |  4.100000E+01 | To be, or not to be, that is the qu\n",
      "   114 |   114000 |  4.100000E+01 | To be, or not to be, that is the qu\n",
      "   115 |   115000 |  4.100000E+01 | To be, or not to be, that is the qu\n",
      "   116 |   116000 |  4.100000E+01 | To be, or not to be, that is the qu\n",
      "   117 |   117000 |  4.100000E+01 | To be, or not to be, that is the qu\n",
      "   118 |   118000 |  4.100000E+01 | To be, or not to be, that is the qu\n",
      "   119 |   119000 |  4.100000E+01 | To be, or not to be, that is the qu\n",
      "   120 |   120000 |  4.100000E+01 | To be, or not to be, that is the qu\n",
      "   121 |   121000 |  4.100000E+01 | To be, or not to be, that is the qu\n",
      "   122 |   122000 |  4.100000E+01 | To be, or not to be, that is the qu\n",
      "   123 |   123000 |  4.100000E+01 | To be, or not to be, that is the qu\n",
      "   124 |   124000 |  4.100000E+01 | To be, or not to be, that is the qu\n",
      "   125 |   125000 |  4.100000E+01 | To be, or not to be, that is the qu\n",
      "   126 |   126000 |  4.100000E+01 | To be, or not to be, that is the qu\n",
      "   127 |   127000 |  4.100000E+01 | To be, or not to be, that is the qu\n",
      "   128 |   128000 |  4.100000E+01 | To be, or not to be, that is the qu\n",
      "   129 |   129000 |  4.100000E+01 | To be, or not to be, that is the qu\n",
      "   130 |   130000 |  4.100000E+01 | To be, or not to be, that is the qu\n",
      "   131 |   131000 |  4.100000E+01 | To be, or not to be, that is the qu\n",
      "   132 |   132000 |  4.100000E+01 | To be, or not to be, that is the qu\n",
      "   133 |   133000 |  4.100000E+01 | To be, or not to be, that is the qu\n",
      "   134 |   134000 |  4.100000E+01 | To be, or not to be, that is the qu\n",
      "   135 |   135000 |  4.100000E+01 | To be, or not to be, that is the qu\n",
      "   136 |   136000 |  4.100000E+01 | To be, or not to be, that is the qu\n",
      "   137 |   137000 |  4.100000E+01 | To be, or not to be, that is the qu\n",
      "   138 |   138000 |  4.100000E+01 | To be, or not to be, that is the qu\n",
      "   139 |   139000 |  4.100000E+01 | To be, or not to be, that is the qu\n",
      "   140 |   140000 |  4.100000E+01 | To be, or not to be, that is the qu\n",
      "   141 |   141000 |  4.100000E+01 | To be, or not to be, that is the qu\n",
      "   142 |   142000 |  4.100000E+01 | To be, or not to be, that is the qu\n",
      "   143 |   143000 |  4.100000E+01 | To be, or not to be, that is the qu\n",
      "   144 |   144000 |  4.100000E+01 | To be, or not to be, that is the qu\n",
      "   145 |   145000 |  4.100000E+01 | To be, or not to be, that is the qu\n",
      "   146 |   146000 |  4.100000E+01 | To be, or not to be, that is the qu\n",
      "   147 |   147000 |  4.100000E+01 | To be, or not to be, that is the qu\n",
      "   148 |   148000 |  4.100000E+01 | To be, or not to be, that is the qu\n",
      "   149 |   149000 |  4.100000E+01 | To be, or not to be, that is the qu\n",
      "   150 |   150000 |  4.100000E+01 | To be, or not to be, that is the qu\n",
      "   151 |   151000 |  4.100000E+01 | To be, or not to be, that is the qu\n",
      "   152 |   152000 |  4.100000E+01 | To be, or not to be, that is the qu\n",
      "   153 |   153000 |  4.100000E+01 | To be, or not to be, that is the qu\n",
      "   154 |   154000 |  4.100000E+01 | To be, or not to be, that is the qu\n",
      "   155 |   155000 |  4.100000E+01 | To be, or not to be, that is the qu\n",
      "   156 |   156000 |  4.100000E+01 | To be, or not to be, that is the qu\n",
      "   157 |   157000 |  4.100000E+01 | To be, or not to be, that is the qu\n",
      "   158 |   158000 |  4.100000E+01 | To be, or not to be, that is the qu\n",
      "   159 |   159000 |  4.100000E+01 | To be, or not to be, that is the qu\n",
      "   160 |   160000 |  4.100000E+01 | To be, or not to be, that is the qu\n",
      "   161 |   161000 |  4.100000E+01 | To be, or not to be, that is the qu\n",
      "   162 |   162000 |  4.100000E+01 | To be, or not to be, that is the qu\n",
      "   163 |   163000 |  4.100000E+01 | To be, or not to be, that is the qu\n",
      "   164 |   164000 |  4.100000E+01 | To be, or not to be, that is the qu\n",
      "   165 |   165000 |  4.100000E+01 | To be, or not to be, that is the qu\n",
      "   166 |   166000 |  4.100000E+01 | To be, or not to be, that is the qu\n",
      "   167 |   167000 |  4.100000E+01 | To be, or not to be, that is the qu\n",
      "   168 |   168000 |  4.100000E+01 | To be, or not to be, that is the qu\n",
      "   169 |   169000 |  4.100000E+01 | To be, or not to be, that is the qu\n",
      "   170 |   170000 |  4.100000E+01 | To be, or not to be, that is the qu\n",
      "   171 |   171000 |  4.100000E+01 | To be, or not to be, that is the qu\n",
      "   172 |   172000 |  4.100000E+01 | To be, or not to be, that is the qu\n",
      "   173 |   173000 |  4.100000E+01 | To be, or not to be, that is the qu\n",
      "   174 |   174000 |  4.100000E+01 | To be, or not to be, that is the qu\n",
      "   175 |   175000 |  4.100000E+01 | To be, or not to be, that is the qu\n",
      "   176 |   176000 |  4.100000E+01 | To be, or not to be, that is the qu\n",
      "   177 |   177000 |  4.100000E+01 | To be, or not to be, that is the qu\n",
      "   178 |   178000 |  4.100000E+01 | To be, or not to be, that is the qu\n",
      "   179 |   179000 |  4.100000E+01 | To be, or not to be, that is the qu\n",
      "   180 |   180000 |  4.100000E+01 | To be, or not to be, that is the qu\n",
      "   181 |   181000 |  4.100000E+01 | To be, or not to be, that is the qu\n",
      "   182 |   182000 |  4.100000E+01 | To be, or not to be, that is the qu\n",
      "   183 |   183000 |  4.100000E+01 | To be, or not to be, that is the qu\n",
      "   184 |   184000 |  4.100000E+01 | To be, or not to be, that is the qu\n",
      "   185 |   185000 |  4.100000E+01 | To be, or not to be, that is the qu\n",
      "   186 |   186000 |  4.100000E+01 | To be, or not to be, that is the qu\n",
      "   187 |   187000 |  4.100000E+01 | To be, or not to be, that is the qu\n",
      "   188 |   188000 |  4.100000E+01 | To be, or not to be, that is the qu\n",
      "   189 |   189000 |  4.100000E+01 | To be, or not to be, that is the qu\n",
      "   190 |   190000 |  4.100000E+01 | To be, or not to be, that is the qu\n",
      "   191 |   191000 |  4.100000E+01 | To be, or not to be, that is the qu\n",
      "   192 |   192000 |  4.100000E+01 | To be, or not to be, that is the qu\n",
      "   193 |   193000 |  4.100000E+01 | To be, or not to be, that is the qu\n",
      "   194 |   194000 |  4.100000E+01 | To be, or not to be, that is the qu\n",
      "   195 |   195000 |  4.100000E+01 | To be, or not to be, that is the qu\n",
      "   196 |   196000 |  4.100000E+01 | To be, or not to be, that is the qu\n",
      "   197 |   197000 |  4.100000E+01 | To be, or not to be, that is the qu\n",
      "   198 |   198000 |  4.100000E+01 | To be, or not to be, that is the qu\n",
      "   199 |   199000 |  4.100000E+01 | To be, or not to be, that is the qu\n",
      "   200 |   200000 |  4.100000E+01 | To be, or not to be, that is the qu\n"
     ]
    }
   ],
   "source": [
    "from pymoo.optimize import minimize\n",
    "from pymoo.termination import get_termination\n",
    "from pymoo.algorithms.soo.nonconvex.ga import GA\n",
    "\n",
    "algorithm = GA(pop_size=POPULATION)\n",
    "\n",
    "term = get_termination(\"n_gen\", ITERATIONS)\n",
    "\n",
    "res = minimize(problem,\n",
    "               algorithm,\n",
    "               #seed=SEED,\n",
    "               save_history=True,\n",
    "               output=MyOutput(),\n",
    "               verbose=True,\n",
    "               termination = term)"
   ]
  },
  {
   "cell_type": "code",
   "execution_count": 492,
   "metadata": {},
   "outputs": [
    {
     "data": {
      "text/plain": [
       "'To be, or not to be, that is the question'"
      ]
     },
     "execution_count": 492,
     "metadata": {},
     "output_type": "execute_result"
    }
   ],
   "source": [
    "decode_String(res.pop.get(\"X\")[0])"
   ]
  },
  {
   "cell_type": "code",
   "execution_count": 493,
   "metadata": {},
   "outputs": [
    {
     "data": {
      "text/plain": [
       "6622820409839837087989552128156750893507779541456909263939129526255095863651804099"
      ]
     },
     "execution_count": 493,
     "metadata": {},
     "output_type": "execute_result"
    }
   ],
   "source": [
    "99 ** len(phrase)"
   ]
  },
  {
   "cell_type": "code",
   "execution_count": 494,
   "metadata": {},
   "outputs": [
    {
     "data": {
      "text/plain": [
       "6.622820409839837e+81"
      ]
     },
     "execution_count": 494,
     "metadata": {},
     "output_type": "execute_result"
    }
   ],
   "source": [
    "np.float_power(99, len(phrase))"
   ]
  }
 ],
 "metadata": {
  "language_info": {
   "name": "python"
  },
  "orig_nbformat": 4
 },
 "nbformat": 4,
 "nbformat_minor": 2
}
